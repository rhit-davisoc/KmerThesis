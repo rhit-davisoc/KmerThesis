{
 "cells": [
  {
   "cell_type": "code",
   "execution_count": 1,
   "metadata": {},
   "outputs": [],
   "source": [
    "import pandas as pd\n",
    "import numpy as np\n",
    "import mmh3"
   ]
  },
  {
   "cell_type": "code",
   "execution_count": 2,
   "metadata": {},
   "outputs": [],
   "source": [
    "kmer_folder=\"../kmer_counts/bc_vs_bf/\"\n",
    "\n",
    "file1 = kmer_folder + \"n\" + str(1) + \".txt\"\n",
    "df1 = pd.read_csv(file1,sep=\"\\t\",header=None,names=[\"kmer\",\"counts\"])\n",
    "file2 = kmer_folder + \"n\" + str(1) + \".txt\"\n",
    "df2 = pd.read_csv(file2,sep=\"\\t\",header=None,names=[\"kmer\",\"counts\"])"
   ]
  },
  {
   "cell_type": "code",
   "execution_count": 3,
   "metadata": {},
   "outputs": [
    {
     "data": {
      "text/html": [
       "<div>\n",
       "<style scoped>\n",
       "    .dataframe tbody tr th:only-of-type {\n",
       "        vertical-align: middle;\n",
       "    }\n",
       "\n",
       "    .dataframe tbody tr th {\n",
       "        vertical-align: top;\n",
       "    }\n",
       "\n",
       "    .dataframe thead th {\n",
       "        text-align: right;\n",
       "    }\n",
       "</style>\n",
       "<table border=\"1\" class=\"dataframe\">\n",
       "  <thead>\n",
       "    <tr style=\"text-align: right;\">\n",
       "      <th></th>\n",
       "      <th>kmer</th>\n",
       "      <th>counts</th>\n",
       "    </tr>\n",
       "  </thead>\n",
       "  <tbody>\n",
       "    <tr>\n",
       "      <th>0</th>\n",
       "      <td>AAAAAAAAAG</td>\n",
       "      <td>31</td>\n",
       "    </tr>\n",
       "    <tr>\n",
       "      <th>1</th>\n",
       "      <td>AAAAAAAAAT</td>\n",
       "      <td>82</td>\n",
       "    </tr>\n",
       "    <tr>\n",
       "      <th>2</th>\n",
       "      <td>AAAAAAAACG</td>\n",
       "      <td>16</td>\n",
       "    </tr>\n",
       "    <tr>\n",
       "      <th>3</th>\n",
       "      <td>AAAAAAAACT</td>\n",
       "      <td>27</td>\n",
       "    </tr>\n",
       "    <tr>\n",
       "      <th>4</th>\n",
       "      <td>AAAAAAAAGC</td>\n",
       "      <td>15</td>\n",
       "    </tr>\n",
       "    <tr>\n",
       "      <th>...</th>\n",
       "      <td>...</td>\n",
       "      <td>...</td>\n",
       "    </tr>\n",
       "    <tr>\n",
       "      <th>446391</th>\n",
       "      <td>TTTGTTAAAA</td>\n",
       "      <td>12</td>\n",
       "    </tr>\n",
       "    <tr>\n",
       "      <th>446392</th>\n",
       "      <td>TTTTAAAAAA</td>\n",
       "      <td>33</td>\n",
       "    </tr>\n",
       "    <tr>\n",
       "      <th>446393</th>\n",
       "      <td>TTTTAGAAAA</td>\n",
       "      <td>16</td>\n",
       "    </tr>\n",
       "    <tr>\n",
       "      <th>446394</th>\n",
       "      <td>TTTTATAAAA</td>\n",
       "      <td>27</td>\n",
       "    </tr>\n",
       "    <tr>\n",
       "      <th>446395</th>\n",
       "      <td>TTTTCCAAAA</td>\n",
       "      <td>86</td>\n",
       "    </tr>\n",
       "  </tbody>\n",
       "</table>\n",
       "<p>446396 rows × 2 columns</p>\n",
       "</div>"
      ],
      "text/plain": [
       "              kmer  counts\n",
       "0       AAAAAAAAAG      31\n",
       "1       AAAAAAAAAT      82\n",
       "2       AAAAAAAACG      16\n",
       "3       AAAAAAAACT      27\n",
       "4       AAAAAAAAGC      15\n",
       "...            ...     ...\n",
       "446391  TTTGTTAAAA      12\n",
       "446392  TTTTAAAAAA      33\n",
       "446393  TTTTAGAAAA      16\n",
       "446394  TTTTATAAAA      27\n",
       "446395  TTTTCCAAAA      86\n",
       "\n",
       "[446396 rows x 2 columns]"
      ]
     },
     "execution_count": 3,
     "metadata": {},
     "output_type": "execute_result"
    }
   ],
   "source": [
    "df1"
   ]
  },
  {
   "cell_type": "code",
   "execution_count": 4,
   "metadata": {},
   "outputs": [],
   "source": [
    "num_hash = 6\n",
    "total = df1.shape[0]\n",
    "array_size = 8*total"
   ]
  },
  {
   "cell_type": "code",
   "execution_count": 5,
   "metadata": {},
   "outputs": [],
   "source": [
    "array1 = np.zeros(array_size,dtype=np.uint16)\n",
    "array2 = np.zeros(array_size,dtype=np.uint16)\n",
    "\n",
    "# df1 = pd.read_csv(file1,sep=\"\\t\",header=None,names=[\"kmer\",\"counts\"])\n",
    "kmers1 = df1.kmer\n",
    "counts1 = df1.counts\n",
    "total = df1.shape[0]\n",
    "\n",
    "for i in range(0,total):\n",
    "    for k in range(0, num_hash):\n",
    "        index = mmh3.hash(kmers1[i],k,signed=False)%array_size\n",
    "        array1[index] += counts1[i]\n",
    "\n",
    "# df2 = pd.read_csv(file2,sep=\"\\t\",header=None,names=[\"kmer\",\"counts\"])\n",
    "kmers2 = df2.kmer\n",
    "counts2 = df2.counts\n",
    "total = df2.shape[0]\n",
    "\n",
    "for i in range(0,total):\n",
    "    for k in range(0, num_hash):\n",
    "        index = mmh3.hash(kmers2[i],k,signed=False)%array_size%array_size\n",
    "        array2[index] += counts2[i]"
   ]
  },
  {
   "cell_type": "code",
   "execution_count": 1,
   "metadata": {},
   "outputs": [
    {
     "ename": "NameError",
     "evalue": "name 'array1' is not defined",
     "output_type": "error",
     "traceback": [
      "\u001b[0;31m---------------------------------------------------------------------------\u001b[0m",
      "\u001b[0;31mNameError\u001b[0m                                 Traceback (most recent call last)",
      "Cell \u001b[0;32mIn[1], line 1\u001b[0m\n\u001b[0;32m----> 1\u001b[0m \u001b[39mmax\u001b[39m(array1)\n",
      "\u001b[0;31mNameError\u001b[0m: name 'array1' is not defined"
     ]
    }
   ],
   "source": [
    "max(array1)"
   ]
  },
  {
   "cell_type": "code",
   "execution_count": 7,
   "metadata": {},
   "outputs": [],
   "source": [
    "cosine = np.dot(array1,array2)/(np.linalg.norm(array1)*np.linalg.norm(array2))"
   ]
  },
  {
   "cell_type": "code",
   "execution_count": 8,
   "metadata": {},
   "outputs": [
    {
     "data": {
      "text/plain": [
       "65524"
      ]
     },
     "execution_count": 8,
     "metadata": {},
     "output_type": "execute_result"
    }
   ],
   "source": [
    "np.dot(array1,array2)"
   ]
  },
  {
   "cell_type": "code",
   "execution_count": 9,
   "metadata": {},
   "outputs": [
    {
     "data": {
      "text/plain": [
       "98932.65646893345"
      ]
     },
     "execution_count": 9,
     "metadata": {},
     "output_type": "execute_result"
    }
   ],
   "source": [
    "np.linalg.norm(array1)"
   ]
  },
  {
   "cell_type": "code",
   "execution_count": 10,
   "metadata": {},
   "outputs": [],
   "source": [
    "array1mag = np.sqrt(np.sum(array1**2)) \n",
    "array2mag = np.sqrt(np.sum(array2**2))"
   ]
  },
  {
   "cell_type": "code",
   "execution_count": 11,
   "metadata": {},
   "outputs": [
    {
     "data": {
      "text/plain": [
       "9630973940.0"
      ]
     },
     "execution_count": 11,
     "metadata": {},
     "output_type": "execute_result"
    }
   ],
   "source": [
    "array1mag*array2mag"
   ]
  },
  {
   "cell_type": "code",
   "execution_count": 12,
   "metadata": {},
   "outputs": [
    {
     "data": {
      "text/plain": [
       "9630973940"
      ]
     },
     "execution_count": 12,
     "metadata": {},
     "output_type": "execute_result"
    }
   ],
   "source": [
    "sum(array1*array2)"
   ]
  },
  {
   "cell_type": "code",
   "execution_count": 14,
   "metadata": {},
   "outputs": [
    {
     "data": {
      "text/plain": [
       "1.0"
      ]
     },
     "execution_count": 14,
     "metadata": {},
     "output_type": "execute_result"
    }
   ],
   "source": [
    "cosine=sum(array1*array2)/(array1mag*array2mag)\n",
    "cosine"
   ]
  }
 ],
 "metadata": {
  "kernelspec": {
   "display_name": "kmer-env",
   "language": "python",
   "name": "python3"
  },
  "language_info": {
   "codemirror_mode": {
    "name": "ipython",
    "version": 3
   },
   "file_extension": ".py",
   "mimetype": "text/x-python",
   "name": "python",
   "nbconvert_exporter": "python",
   "pygments_lexer": "ipython3",
   "version": "3.12.5"
  },
  "orig_nbformat": 4
 },
 "nbformat": 4,
 "nbformat_minor": 2
}
