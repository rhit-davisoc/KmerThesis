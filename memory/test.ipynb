{
 "cells": [
  {
   "cell_type": "code",
   "execution_count": 1,
   "metadata": {},
   "outputs": [],
   "source": [
    "import pandas as pd\n",
    "import numpy as np\n",
    "import mmh3\n",
    "from sklearn.metrics.pairwise import cosine_similarity"
   ]
  },
  {
   "cell_type": "code",
   "execution_count": 30,
   "metadata": {},
   "outputs": [],
   "source": [
    "kmer_folder=\"./sim_63/kmer_counts_x10_k30/P0/\"\n",
    "\n",
    "file1 = kmer_folder + \"n\" + str(1) + \".txt\"\n",
    "df1 = pd.read_csv(file1,sep=\"\\t\",header=None,names=[\"kmer\",\"counts\"])\n",
    "file2 = kmer_folder + \"n\" + str(2) + \".txt\"\n",
    "df2 = pd.read_csv(file2,sep=\"\\t\",header=None,names=[\"kmer\",\"counts\"])"
   ]
  },
  {
   "cell_type": "code",
   "execution_count": 31,
   "metadata": {},
   "outputs": [
    {
     "data": {
      "text/html": [
       "<div>\n",
       "<style scoped>\n",
       "    .dataframe tbody tr th:only-of-type {\n",
       "        vertical-align: middle;\n",
       "    }\n",
       "\n",
       "    .dataframe tbody tr th {\n",
       "        vertical-align: top;\n",
       "    }\n",
       "\n",
       "    .dataframe thead th {\n",
       "        text-align: right;\n",
       "    }\n",
       "</style>\n",
       "<table border=\"1\" class=\"dataframe\">\n",
       "  <thead>\n",
       "    <tr style=\"text-align: right;\">\n",
       "      <th></th>\n",
       "      <th>kmer</th>\n",
       "      <th>counts</th>\n",
       "    </tr>\n",
       "  </thead>\n",
       "  <tbody>\n",
       "    <tr>\n",
       "      <th>0</th>\n",
       "      <td>AAAAAAAAAAAAAAAAAAAGGCCGTCCCAT</td>\n",
       "      <td>1</td>\n",
       "    </tr>\n",
       "    <tr>\n",
       "      <th>1</th>\n",
       "      <td>AAAAAAAAAAAAAAAAAAAGGCCGTTCCAT</td>\n",
       "      <td>5</td>\n",
       "    </tr>\n",
       "    <tr>\n",
       "      <th>2</th>\n",
       "      <td>AAAAAAAAAAAAAAAAAACTATTAAAGTAT</td>\n",
       "      <td>9</td>\n",
       "    </tr>\n",
       "    <tr>\n",
       "      <th>3</th>\n",
       "      <td>AAAAAAAAAAAAAAAAAACTATTAAAGTGT</td>\n",
       "      <td>1</td>\n",
       "    </tr>\n",
       "    <tr>\n",
       "      <th>4</th>\n",
       "      <td>AAAAAAAAAAAAAAAAAACTGGAGTATATA</td>\n",
       "      <td>11</td>\n",
       "    </tr>\n",
       "    <tr>\n",
       "      <th>...</th>\n",
       "      <td>...</td>\n",
       "      <td>...</td>\n",
       "    </tr>\n",
       "    <tr>\n",
       "      <th>142767</th>\n",
       "      <td>TTTTTCATTATAAAGTGAAAAAACGAAAAA</td>\n",
       "      <td>14</td>\n",
       "    </tr>\n",
       "    <tr>\n",
       "      <th>142768</th>\n",
       "      <td>TTTTTCATTTTTGTAATCAAAGCCAAAAAA</td>\n",
       "      <td>4</td>\n",
       "    </tr>\n",
       "    <tr>\n",
       "      <th>142769</th>\n",
       "      <td>TTTTTGGCTTTGATTACAAAAATGAAAAAA</td>\n",
       "      <td>4</td>\n",
       "    </tr>\n",
       "    <tr>\n",
       "      <th>142770</th>\n",
       "      <td>TTTTTGTTTGTTAATTCAGTAGTGAAAAAA</td>\n",
       "      <td>8</td>\n",
       "    </tr>\n",
       "    <tr>\n",
       "      <th>142771</th>\n",
       "      <td>TTTTTTAAAAAATTCACACATATCAAAAAA</td>\n",
       "      <td>6</td>\n",
       "    </tr>\n",
       "  </tbody>\n",
       "</table>\n",
       "<p>142772 rows × 2 columns</p>\n",
       "</div>"
      ],
      "text/plain": [
       "                                  kmer  counts\n",
       "0       AAAAAAAAAAAAAAAAAAAGGCCGTCCCAT       1\n",
       "1       AAAAAAAAAAAAAAAAAAAGGCCGTTCCAT       5\n",
       "2       AAAAAAAAAAAAAAAAAACTATTAAAGTAT       9\n",
       "3       AAAAAAAAAAAAAAAAAACTATTAAAGTGT       1\n",
       "4       AAAAAAAAAAAAAAAAAACTGGAGTATATA      11\n",
       "...                                ...     ...\n",
       "142767  TTTTTCATTATAAAGTGAAAAAACGAAAAA      14\n",
       "142768  TTTTTCATTTTTGTAATCAAAGCCAAAAAA       4\n",
       "142769  TTTTTGGCTTTGATTACAAAAATGAAAAAA       4\n",
       "142770  TTTTTGTTTGTTAATTCAGTAGTGAAAAAA       8\n",
       "142771  TTTTTTAAAAAATTCACACATATCAAAAAA       6\n",
       "\n",
       "[142772 rows x 2 columns]"
      ]
     },
     "execution_count": 31,
     "metadata": {},
     "output_type": "execute_result"
    }
   ],
   "source": [
    "df1"
   ]
  },
  {
   "cell_type": "code",
   "execution_count": 34,
   "metadata": {},
   "outputs": [
    {
     "name": "stdout",
     "output_type": "stream",
     "text": [
      "<class 'pandas.core.frame.DataFrame'>\n",
      "RangeIndex: 142772 entries, 0 to 142771\n",
      "Data columns (total 2 columns):\n",
      " #   Column  Non-Null Count   Dtype \n",
      "---  ------  --------------   ----- \n",
      " 0   kmer    142772 non-null  object\n",
      " 1   counts  142772 non-null  int64 \n",
      "dtypes: int64(1), object(1)\n",
      "memory usage: 2.2+ MB\n"
     ]
    }
   ],
   "source": [
    "df1.info()"
   ]
  },
  {
   "cell_type": "code",
   "execution_count": 35,
   "metadata": {},
   "outputs": [],
   "source": [
    "num_hash = 4\n",
    "total = df1.shape[0]\n",
    "array_size = 10000"
   ]
  },
  {
   "cell_type": "code",
   "execution_count": 46,
   "metadata": {},
   "outputs": [],
   "source": [
    "total = df1.shape[0]\n",
    "array_size = 10000\n",
    "\n",
    "array1 = np.zeros(array_size,dtype=np.uint16)\n",
    "array2 = np.zeros(array_size,dtype=np.uint16)\n",
    "\n",
    "kmers1 = df1.kmer\n",
    "counts1 = df1.counts\n",
    "total = df1.shape[0]\n",
    "\n",
    "for i in range(0,total):\n",
    "    for k in range(0, num_hash):\n",
    "        index = mmh3.hash(kmers1[i],k,signed=False)%array_size\n",
    "        array1[index] += counts1[i]\n",
    "\n",
    "kmers2 = df2.kmer\n",
    "counts2 = df2.counts\n",
    "total = df2.shape[0]\n",
    "\n",
    "for i in range(0,total):\n",
    "    for k in range(0, num_hash):\n",
    "        index = mmh3.hash(kmers2[i],k,signed=False)%array_size\n",
    "        array2[index] += counts2[i]\n",
    "\n",
    "cosine = cosine_similarity([array1],[array2])\n",
    "\n",
    "result = 1 - cosine[0][0]"
   ]
  },
  {
   "cell_type": "code",
   "execution_count": 49,
   "metadata": {},
   "outputs": [
    {
     "data": {
      "text/plain": [
       "20000"
      ]
     },
     "execution_count": 49,
     "metadata": {},
     "output_type": "execute_result"
    }
   ],
   "source": [
    "array1.nbytes"
   ]
  },
  {
   "cell_type": "code",
   "execution_count": 40,
   "metadata": {},
   "outputs": [
    {
     "data": {
      "text/plain": [
       "0.0036576474321911023"
      ]
     },
     "execution_count": 40,
     "metadata": {},
     "output_type": "execute_result"
    }
   ],
   "source": [
    "result"
   ]
  }
 ],
 "metadata": {
  "kernelspec": {
   "display_name": "kmer-env",
   "language": "python",
   "name": "python3"
  },
  "language_info": {
   "codemirror_mode": {
    "name": "ipython",
    "version": 3
   },
   "file_extension": ".py",
   "mimetype": "text/x-python",
   "name": "python",
   "nbconvert_exporter": "python",
   "pygments_lexer": "ipython3",
   "version": "3.12.5"
  },
  "orig_nbformat": 4
 },
 "nbformat": 4,
 "nbformat_minor": 2
}
